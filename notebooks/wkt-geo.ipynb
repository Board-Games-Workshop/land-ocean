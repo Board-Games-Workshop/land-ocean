{
 "cells": [
  {
   "cell_type": "code",
   "execution_count": 7,
   "metadata": {},
   "outputs": [],
   "source": [
    "import pycrs\n",
    "import pyproj"
   ]
  },
  {
   "cell_type": "code",
   "execution_count": 28,
   "metadata": {},
   "outputs": [],
   "source": [
    "proj4 = \"+proj=merc +a=6378137 +b=6378137 +lat_ts=0.0 +lon_0=0.0 +x_0=0.0 +y_0=0 +k=1.0 +nadgrids=@null +wktext  +no_defs\"\n",
    "to_crs = pycrs.parse.from_proj4(proj4)\n",
    "\n",
    "from_proj4 = \"+proj=longlat +a=6378137 +b=6378137 +lon_0=0 +x_0=0 +y_0=0 +k=0.1 +datum=WGS84 +ellips=WGS84 +no_defs\"\n",
    "from_crs = pycrs.parse.from_proj4(from_proj4)"
   ]
  },
  {
   "cell_type": "code",
   "execution_count": 31,
   "metadata": {},
   "outputs": [
    {
     "data": {
      "text/plain": [
       "(2.1, 0.009933060618219032)"
      ]
     },
     "execution_count": 31,
     "metadata": {},
     "output_type": "execute_result"
    }
   ],
   "source": [
    "lat, lng = (30, 50)\n",
    "from pyproj import Transformer\n",
    "pipe_trans = Transformer.from_pipeline(from_proj4)\n",
    "pipe_trans.transform(2.1, 0.01)\n",
    "# pyproj.transform(from_crs, to_crs, lng, lat)"
   ]
  }
 ],
 "metadata": {
  "kernelspec": {
   "display_name": "Python 3",
   "language": "python",
   "name": "python3"
  },
  "language_info": {
   "codemirror_mode": {
    "name": "ipython",
    "version": 3
   },
   "file_extension": ".py",
   "mimetype": "text/x-python",
   "name": "python",
   "nbconvert_exporter": "python",
   "pygments_lexer": "ipython3",
   "version": "3.6.7"
  }
 },
 "nbformat": 4,
 "nbformat_minor": 2
}
